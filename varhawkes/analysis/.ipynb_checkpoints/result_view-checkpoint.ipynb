{
 "cells": [
  {
   "cell_type": "code",
   "execution_count": 2,
   "metadata": {},
   "outputs": [
    {
     "ename": "FileNotFoundError",
     "evalue": "[Errno 2] No such file or directory: './result/50_train_fit_modify_prior/s052/s052_1.json'",
     "output_type": "error",
     "traceback": [
      "\u001b[1;31m---------------------------------------------------------------------------\u001b[0m",
      "\u001b[1;31mFileNotFoundError\u001b[0m                         Traceback (most recent call last)",
      "\u001b[1;32m<ipython-input-2-b88b4138b708>\u001b[0m in \u001b[0;36m<module>\u001b[1;34m\u001b[0m\n\u001b[0;32m     72\u001b[0m \u001b[1;31m#读取模型参数\u001b[0m\u001b[1;33m\u001b[0m\u001b[1;33m\u001b[0m\u001b[0m\n\u001b[0;32m     73\u001b[0m \u001b[1;32mfor\u001b[0m \u001b[0mparam_filename\u001b[0m \u001b[1;32min\u001b[0m \u001b[0mparam_filename_list\u001b[0m\u001b[1;33m:\u001b[0m\u001b[1;33m\u001b[0m\u001b[0m\n\u001b[1;32m---> 74\u001b[1;33m     \u001b[1;32mwith\u001b[0m \u001b[0mopen\u001b[0m\u001b[1;33m(\u001b[0m\u001b[0mparam_filename\u001b[0m\u001b[1;33m,\u001b[0m\u001b[1;34m'r'\u001b[0m\u001b[1;33m)\u001b[0m \u001b[1;32mas\u001b[0m \u001b[0mparam_file\u001b[0m\u001b[1;33m:\u001b[0m\u001b[1;33m\u001b[0m\u001b[0m\n\u001b[0m\u001b[0;32m     75\u001b[0m         \u001b[0mparam_dict\u001b[0m \u001b[1;33m=\u001b[0m \u001b[0mjson\u001b[0m\u001b[1;33m.\u001b[0m\u001b[0mload\u001b[0m\u001b[1;33m(\u001b[0m\u001b[0mparam_file\u001b[0m\u001b[1;33m)\u001b[0m\u001b[1;33m\u001b[0m\u001b[0m\n\u001b[0;32m     76\u001b[0m \u001b[1;33m\u001b[0m\u001b[0m\n",
      "\u001b[1;31mFileNotFoundError\u001b[0m: [Errno 2] No such file or directory: './result/50_train_fit_modify_prior/s052/s052_1.json'"
     ]
    }
   ],
   "source": [
    "import matplotlib.pyplot as plt\n",
    "import matplotlib.mlab as mlab\n",
    "import seaborn as sns\n",
    "import numpy as np\n",
    "import json\n",
    "\n",
    "'''\n",
    "param_filename_list = ['s002_1.json', \n",
    "                       's002_2.json',\n",
    "                       's002_3.json',\n",
    "                       's002_4.json',\n",
    "                       's002_5.json',\n",
    "                       's002_6.json',\n",
    "                       's002_7.json',\n",
    "                       's002_8.json'\n",
    "                      ]\n",
    "'''\n",
    "\n",
    "'''\n",
    "param_filename_list = ['s032_1.json', \n",
    "                       's032_2.json',\n",
    "                       's032_3.json',\n",
    "                       's032_4.json',\n",
    "                       's032_5.json',\n",
    "                       's032_6.json',\n",
    "                       's032_7.json',\n",
    "                       's032_8.json'\n",
    "                      ]\n",
    "'''\n",
    "'''\n",
    "param_filename_list = ['s036_1.json', \n",
    "                       's036_2.json',\n",
    "                       's036_3.json',\n",
    "                       's036_4.json',\n",
    "                       's036_5.json',\n",
    "                       's036_6.json',\n",
    "                       's036_7.json',\n",
    "                       's036_8.json'\n",
    "                      ]\n",
    "'''\n",
    "\n",
    "'''\n",
    "param_filename_list = ['s047_1.json', \n",
    "                       's047_2.json',\n",
    "                       's047_3.json',\n",
    "                       's047_4.json',\n",
    "                       's047_5.json',\n",
    "                       's047_6.json',\n",
    "                       's047_7.json',\n",
    "                       's047_8.json'\n",
    "                      ]\n",
    "'''\n",
    "\n",
    "\n",
    "param_filename_list = ['s052_1.json', \n",
    "                       's052_2.json',\n",
    "                       's052_3.json',\n",
    "                       's052_4.json',\n",
    "                       's052_5.json',\n",
    "                       's052_6.json',\n",
    "                       's052_7.json',\n",
    "                       's052_8.json'\n",
    "                      ]\n",
    "\n",
    "\n",
    "path = './result/50_train_fit_modify_prior/2/s052/'\n",
    "\n",
    "#param_filename_list += path\n",
    "for index,list_item in enumerate(param_filename_list):\n",
    "    param_filename_list[index] = path + param_filename_list[index]\n",
    "    \n",
    "#读取模型参数\n",
    "for param_filename in param_filename_list:\n",
    "    with open(param_filename,'r') as param_file:\n",
    "        param_dict = json.load(param_file)        \n",
    "        \n",
    "    adjacency = np.array(param_dict['vi_exp']['adjacency']).reshape(11,11)\n",
    "    #print(adjacency)\n",
    "    mu = np.array(param_dict['vi_exp']['mu']).tolist()\n",
    "    #print(mu.tolist())\n",
    "    #print(mu)\n",
    "\n",
    "   \n",
    "    cmap = sns.cubehelix_palette(start = 1, rot = 3, gamma=0.8, as_cmap = True)\n",
    "    sns.heatmap(adjacency, linewidths = 0.05, vmax=10, vmin=0, cmap=cmap, center=None, robust=False, annot=False)\n",
    "   \n",
    "    plt.show()"
   ]
  },
  {
   "cell_type": "code",
   "execution_count": 10,
   "metadata": {},
   "outputs": [
    {
     "data": {
      "image/png": "[encoded data removed]",
      "text/plain": [
       "<Figure size 432x288 with 1 Axes>"
      ]
     },
     "metadata": {
      "needs_background": "light"
     },
     "output_type": "display_data"
    }
   ],
   "source": [
    "import pandas as pd\n",
    "#读取模型参数\n",
    "\n",
    "for index,param_filename in enumerate(param_filename_list):\n",
    "    with open(param_filename,'r') as param_file:\n",
    "        param_dict = json.load(param_file)         \n",
    "\n",
    "    mu = np.array(param_dict['vi_exp']['mu']).tolist()\n",
    "    \n",
    "    label = 's052_'+str(index)\n",
    "    ax = pd.Series(mu)\n",
    "    ax.plot(kind='line', grid=True, color = 'green', label=label ,style=':')   \n",
    "\n",
    "plt.legend()\n",
    "plt.show()"
   ]
  },
  {
   "cell_type": "markdown",
   "metadata": {},
   "source": [
    "penalty"
   ]
  },
  {
   "cell_type": "code",
   "execution_count": null,
   "metadata": {},
   "outputs": [],
   "source": []
  }
 ],
 "metadata": {
  "kernelspec": {
   "display_name": "Python 3",
   "language": "python",
   "name": "python3"
  },
  "language_info": {
   "codemirror_mode": {
    "name": "ipython",
    "version": 3
   },
   "file_extension": ".py",
   "mimetype": "text/x-python",
   "name": "python",
   "nbconvert_exporter": "python",
   "pygments_lexer": "ipython3",
   "version": "3.6.5"
  }
 },
 "nbformat": 4,
 "nbformat_minor": 2
}
