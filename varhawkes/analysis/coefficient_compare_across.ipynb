{
 "cells": [
  {
   "cell_type": "code",
   "execution_count": 50,
   "metadata": {},
   "outputs": [],
   "source": [
    "import numpy\n",
    "import os\n",
    "import json\n",
    "import torch\n",
    "import xlrd\n",
    "import pandas as pd\n",
    "from pandas.core.frame import DataFrame\n",
    "\n",
    "filelist = os.listdir()\n",
    "\n",
    "path = './result/different_set_size/2/s047'\n",
    "filetype ='.json'\n",
    "\n",
    "def get_filename(path,filetype):\n",
    "    name =[]\n",
    "    final_name = []\n",
    "    for root,dirs,files in os.walk(path):\n",
    "        for i in files:\n",
    "            if filetype in i:\n",
    "                name.append(i.replace(filetype,''))\n",
    "    final_name = [path +'/'+ item +'.json' for item in name]\n",
    "    return final_name\n",
    "\n",
    "param_filename_list = []\n",
    "mu_distance_list = []\n",
    "W_distance_list = []\n",
    "\n",
    "for file_name in get_filename(path, filetype):\n",
    "    param_filename_list.append (file_name) \n",
    "\n",
    "for param_filename1 in param_filename_list:\n",
    "    if not os.path.exists(param_filename1):\n",
    "        raise FileNotFoundError(\n",
    "            'Input file `{:s}` not found.'.format(param_filename1))\n",
    "    with open(param_filename1, 'r') as param_file1:\n",
    "        param_dict1 = json.load(param_file1)\n",
    "        \n",
    "    mu_distance_list_temp = []\n",
    "    W_distance_list_temp = []\n",
    "    for param_filename2 in param_filename_list:        \n",
    "        if not os.path.exists(param_filename2):\n",
    "            raise FileNotFoundError(\n",
    "                'Input file `{:s}` not found.'.format(param_filename2))\n",
    "        with open(param_filename2, 'r') as param_file2:\n",
    "            param_dict2 = json.load(param_file2)\n",
    "\n",
    "\n",
    "        mu1 = numpy.array(param_dict1['vi_exp']['mu'])\n",
    "        W1 = numpy.array(param_dict1['vi_exp']['adjacency'])\n",
    "\n",
    "        mu2 = numpy.array(param_dict2['vi_exp']['mu'])\n",
    "        W2 = numpy.array(param_dict2['vi_exp']['adjacency'])\n",
    "\n",
    "        dist_mu = numpy.sqrt(numpy.sum(numpy.square(mu1 - mu2)))\n",
    "        dist_W =  numpy.sqrt(numpy.sum(numpy.square(W1 - W2)))\n",
    "        \n",
    "        mu_distance_list_temp.append(dist_mu)\n",
    "        W_distance_list_temp.append(dist_W)\n",
    "    mu_distance_list.append(mu_distance_list_temp)\n",
    "    W_distance_list.append(W_distance_list_temp)\n",
    "\n",
    "data_frame_mu = DataFrame(mu_distance_list)\n",
    "data_frame_W = DataFrame(W_distance_list)"
   ]
  },
  {
   "cell_type": "code",
   "execution_count": 51,
   "metadata": {},
   "outputs": [
    {
     "data": {
      "text/html": [
       "<div>\n",
       "<style scoped>\n",
       "    .dataframe tbody tr th:only-of-type {\n",
       "        vertical-align: middle;\n",
       "    }\n",
       "\n",
       "    .dataframe tbody tr th {\n",
       "        vertical-align: top;\n",
       "    }\n",
       "\n",
       "    .dataframe thead th {\n",
       "        text-align: right;\n",
       "    }\n",
       "</style>\n",
       "<table border=\"1\" class=\"dataframe\">\n",
       "  <thead>\n",
       "    <tr style=\"text-align: right;\">\n",
       "      <th></th>\n",
       "      <th>0</th>\n",
       "      <th>1</th>\n",
       "      <th>2</th>\n",
       "      <th>3</th>\n",
       "    </tr>\n",
       "  </thead>\n",
       "  <tbody>\n",
       "    <tr>\n",
       "      <th>0</th>\n",
       "      <td>0.000000</td>\n",
       "      <td>0.069062</td>\n",
       "      <td>0.114081</td>\n",
       "      <td>0.159292</td>\n",
       "    </tr>\n",
       "    <tr>\n",
       "      <th>1</th>\n",
       "      <td>0.069062</td>\n",
       "      <td>0.000000</td>\n",
       "      <td>0.045019</td>\n",
       "      <td>0.090230</td>\n",
       "    </tr>\n",
       "    <tr>\n",
       "      <th>2</th>\n",
       "      <td>0.114081</td>\n",
       "      <td>0.045019</td>\n",
       "      <td>0.000000</td>\n",
       "      <td>0.045211</td>\n",
       "    </tr>\n",
       "    <tr>\n",
       "      <th>3</th>\n",
       "      <td>0.159292</td>\n",
       "      <td>0.090230</td>\n",
       "      <td>0.045211</td>\n",
       "      <td>0.000000</td>\n",
       "    </tr>\n",
       "  </tbody>\n",
       "</table>\n",
       "</div>"
      ],
      "text/plain": [
       "          0         1         2         3\n",
       "0  0.000000  0.069062  0.114081  0.159292\n",
       "1  0.069062  0.000000  0.045019  0.090230\n",
       "2  0.114081  0.045019  0.000000  0.045211\n",
       "3  0.159292  0.090230  0.045211  0.000000"
      ]
     },
     "execution_count": 51,
     "metadata": {},
     "output_type": "execute_result"
    }
   ],
   "source": [
    "data_frame_mu\n"
   ]
  },
  {
   "cell_type": "code",
   "execution_count": 52,
   "metadata": {},
   "outputs": [
    {
     "data": {
      "text/html": [
       "<div>\n",
       "<style scoped>\n",
       "    .dataframe tbody tr th:only-of-type {\n",
       "        vertical-align: middle;\n",
       "    }\n",
       "\n",
       "    .dataframe tbody tr th {\n",
       "        vertical-align: top;\n",
       "    }\n",
       "\n",
       "    .dataframe thead th {\n",
       "        text-align: right;\n",
       "    }\n",
       "</style>\n",
       "<table border=\"1\" class=\"dataframe\">\n",
       "  <thead>\n",
       "    <tr style=\"text-align: right;\">\n",
       "      <th></th>\n",
       "      <th>0</th>\n",
       "      <th>1</th>\n",
       "      <th>2</th>\n",
       "      <th>3</th>\n",
       "    </tr>\n",
       "  </thead>\n",
       "  <tbody>\n",
       "    <tr>\n",
       "      <th>0</th>\n",
       "      <td>0.000000</td>\n",
       "      <td>51.713178</td>\n",
       "      <td>48.348877</td>\n",
       "      <td>46.713054</td>\n",
       "    </tr>\n",
       "    <tr>\n",
       "      <th>1</th>\n",
       "      <td>51.713178</td>\n",
       "      <td>0.000000</td>\n",
       "      <td>4.294142</td>\n",
       "      <td>7.860852</td>\n",
       "    </tr>\n",
       "    <tr>\n",
       "      <th>2</th>\n",
       "      <td>48.348877</td>\n",
       "      <td>4.294142</td>\n",
       "      <td>0.000000</td>\n",
       "      <td>3.724599</td>\n",
       "    </tr>\n",
       "    <tr>\n",
       "      <th>3</th>\n",
       "      <td>46.713054</td>\n",
       "      <td>7.860852</td>\n",
       "      <td>3.724599</td>\n",
       "      <td>0.000000</td>\n",
       "    </tr>\n",
       "  </tbody>\n",
       "</table>\n",
       "</div>"
      ],
      "text/plain": [
       "           0          1          2          3\n",
       "0   0.000000  51.713178  48.348877  46.713054\n",
       "1  51.713178   0.000000   4.294142   7.860852\n",
       "2  48.348877   4.294142   0.000000   3.724599\n",
       "3  46.713054   7.860852   3.724599   0.000000"
      ]
     },
     "execution_count": 52,
     "metadata": {},
     "output_type": "execute_result"
    }
   ],
   "source": [
    "data_frame_W"
   ]
  },
  {
   "cell_type": "code",
   "execution_count": 53,
   "metadata": {},
   "outputs": [
    {
     "data": {
      "image/png": "[encoded data removed]",
      "text/plain": [
       "<Figure size 360x288 with 2 Axes>"
      ]
     },
     "metadata": {
      "needs_background": "light"
     },
     "output_type": "display_data"
    }
   ],
   "source": [
    "import seaborn as sns\n",
    "import matplotlib.pyplot as plt\n",
    "\n",
    "plt.figure(figsize=(5,4))\n",
    "cmap = sns.cubehelix_palette(start = 1, rot = 3, gamma=0.8, as_cmap = True)\n",
    "sns.heatmap(data_frame_W, linewidths = 0.05, vmax=160, vmin=0, cmap=cmap, center=None, robust=False, annot=False)\n",
    "plt.show()"
   ]
  },
  {
   "cell_type": "code",
   "execution_count": null,
   "metadata": {},
   "outputs": [],
   "source": []
  }
 ],
 "metadata": {
  "kernelspec": {
   "display_name": "Python 3",
   "language": "python",
   "name": "python3"
  },
  "language_info": {
   "codemirror_mode": {
    "name": "ipython",
    "version": 3
   },
   "file_extension": ".py",
   "mimetype": "text/x-python",
   "name": "python",
   "nbconvert_exporter": "python",
   "pygments_lexer": "ipython3",
   "version": "3.6.5"
  }
 },
 "nbformat": 4,
 "nbformat_minor": 2
}
